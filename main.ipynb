{
 "cells": [
  {
   "cell_type": "markdown",
   "id": "b13af1c2-3d09-4c23-8c51-989ab3778720",
   "metadata": {},
   "source": [
    "## Question 1."
   ]
  },
  {
   "cell_type": "markdown",
   "id": "d8962420-c394-4fcb-855e-2cf75e3c1f8c",
   "metadata": {},
   "source": [
    "### Load Data"
   ]
  },
  {
   "cell_type": "markdown",
   "id": "2fe1f8a0-92d5-4c83-9341-4825d35af774",
   "metadata": {},
   "source": [
    "#### Open file and isolate certain columns B,C,F,H,J"
   ]
  },
  {
   "cell_type": "code",
   "execution_count": 1,
   "id": "df44db7b-5291-4c92-b457-76ba8311ddda",
   "metadata": {},
   "outputs": [],
   "source": [
    "#Default file reader\n",
    "f = open(\"LAP.csv\", \"r\")\n",
    "df = []\n",
    "headers = f.readline()\n",
    "line = f.readline()\n",
    "while line:\n",
    "    line = line.strip().split(\",\")\n",
    "    new_line = []\n",
    "    new_line.append(line[2])\n",
    "    new_line.append(line[1])\n",
    "    new_line.append(line[5])\n",
    "    new_line.append(line[7])\n",
    "    new_line.append(line[9])\n",
    "    df.append(new_line)\n",
    "    line = f.readline()\n",
    "f.close()"
   ]
  },
  {
   "cell_type": "markdown",
   "id": "d121458a-4211-43c4-a620-a6d3807c691a",
   "metadata": {},
   "source": [
    "#### Observe data in pandas data frame"
   ]
  },
  {
   "cell_type": "code",
   "execution_count": 2,
   "id": "9579298b-332a-4ffc-b1be-fc038c66d578",
   "metadata": {},
   "outputs": [],
   "source": [
    "import pandas as pd\n",
    "pddf = pd.DataFrame(df, columns=['Geography', 'Type', 'Responses', 'Documents Types', 'Keywords'])"
   ]
  },
  {
   "cell_type": "code",
   "execution_count": 3,
   "id": "3a9a5d74-70ad-427c-829f-6aa9b87b23d4",
   "metadata": {},
   "outputs": [
    {
     "data": {
      "text/html": [
       "<div>\n",
       "<style scoped>\n",
       "    .dataframe tbody tr th:only-of-type {\n",
       "        vertical-align: middle;\n",
       "    }\n",
       "\n",
       "    .dataframe tbody tr th {\n",
       "        vertical-align: top;\n",
       "    }\n",
       "\n",
       "    .dataframe thead th {\n",
       "        text-align: right;\n",
       "    }\n",
       "</style>\n",
       "<table border=\"1\" class=\"dataframe\">\n",
       "  <thead>\n",
       "    <tr style=\"text-align: right;\">\n",
       "      <th></th>\n",
       "      <th>Geography</th>\n",
       "      <th>Type</th>\n",
       "      <th>Responses</th>\n",
       "      <th>Documents Types</th>\n",
       "      <th>Keywords</th>\n",
       "    </tr>\n",
       "  </thead>\n",
       "  <tbody>\n",
       "    <tr>\n",
       "      <th>0</th>\n",
       "      <td>Afghanistan</td>\n",
       "      <td>executive</td>\n",
       "      <td>Mitigation</td>\n",
       "      <td>Strategy</td>\n",
       "      <td>Energy Supply</td>\n",
       "    </tr>\n",
       "    <tr>\n",
       "      <th>1</th>\n",
       "      <td>Afghanistan</td>\n",
       "      <td>executive</td>\n",
       "      <td>Adaptation</td>\n",
       "      <td>Policy</td>\n",
       "      <td>Adaptation; Energy Supply</td>\n",
       "    </tr>\n",
       "    <tr>\n",
       "      <th>2</th>\n",
       "      <td>Afghanistan</td>\n",
       "      <td>executive</td>\n",
       "      <td>Adaptation; Mitigation</td>\n",
       "      <td>Policy</td>\n",
       "      <td>Research And Development</td>\n",
       "    </tr>\n",
       "    <tr>\n",
       "      <th>3</th>\n",
       "      <td>Afghanistan</td>\n",
       "      <td>executive</td>\n",
       "      <td>Adaptation; Disaster Risk Management</td>\n",
       "      <td>Plan</td>\n",
       "      <td>Adaptation</td>\n",
       "    </tr>\n",
       "    <tr>\n",
       "      <th>4</th>\n",
       "      <td>Afghanistan</td>\n",
       "      <td>executive</td>\n",
       "      <td>Adaptation</td>\n",
       "      <td>Plan</td>\n",
       "      <td>Adaptation</td>\n",
       "    </tr>\n",
       "  </tbody>\n",
       "</table>\n",
       "</div>"
      ],
      "text/plain": [
       "     Geography       Type                             Responses  \\\n",
       "0  Afghanistan  executive                            Mitigation   \n",
       "1  Afghanistan  executive                            Adaptation   \n",
       "2  Afghanistan  executive                Adaptation; Mitigation   \n",
       "3  Afghanistan  executive  Adaptation; Disaster Risk Management   \n",
       "4  Afghanistan  executive                            Adaptation   \n",
       "\n",
       "  Documents Types                   Keywords  \n",
       "0        Strategy              Energy Supply  \n",
       "1          Policy  Adaptation; Energy Supply  \n",
       "2          Policy   Research And Development  \n",
       "3            Plan                 Adaptation  \n",
       "4            Plan                 Adaptation  "
      ]
     },
     "execution_count": 3,
     "metadata": {},
     "output_type": "execute_result"
    }
   ],
   "source": [
    "pddf.head()"
   ]
  },
  {
   "cell_type": "markdown",
   "id": "d29ed478-45e7-4bc9-99a6-bbc67750cdec",
   "metadata": {},
   "source": [
    "### Pie Charts by Country"
   ]
  },
  {
   "cell_type": "code",
   "execution_count": 4,
   "id": "b5856073-29c5-413d-b5b7-266ea08c3c20",
   "metadata": {},
   "outputs": [
    {
     "name": "stdin",
     "output_type": "stream",
     "text": [
      "Select a Country...\n",
      "Your selection: China\n",
      "Select a Column...\n",
      "   1.Type: exec./leg.\n",
      "   2.Response\n",
      "   3.Document Types\n",
      "   4.Keywords\n",
      "Your selection: 3\n"
     ]
    },
    {
     "data": {
      "image/png": "[encoded data removed]",
      "text/plain": [
       "<Figure size 600x600 with 1 Axes>"
      ]
     },
     "metadata": {},
     "output_type": "display_data"
    }
   ],
   "source": [
    "import numpy as np\n",
    "\n",
    "country = input(\"Select a Country...\\nYour selection:\")\n",
    "col_type = int(input(\"Select a Column...\\n   1.Type: exec./leg.\\n   2.Response\\n   3.Document Types\\n   4.Keywords\\nYour selection:\"))\n",
    "\n",
    "countrydf = []\n",
    "for i in range(len(df)):\n",
    "    if(df[i][0].upper() == country.upper()):\n",
    "        countrydf.append(df[i][col_type])\n",
    "        \n",
    "if(col_type == 1):\n",
    "    nexec = 0\n",
    "    nleg = 0\n",
    "    for i in range(len(countrydf)):\n",
    "        if(countrydf[i] == 'executive'):\n",
    "            nexec+=1\n",
    "        elif(countrydf[i] == 'legislative'):\n",
    "            nleg+=1\n",
    "    import matplotlib.pyplot as plt\n",
    "    y = []\n",
    "    y.append(nexec)\n",
    "    y.append(nleg)\n",
    "    mylabels = [\"executive n=\" + str(nexec), \"legislative n=\" + str(nleg)]\n",
    "    plt.figure(figsize=(6, 6), dpi=100)\n",
    "    plt.pie(y, labels=mylabels, autopct='%1.1f%%')\n",
    "    plt.title(label=str(country) + \" Type Concerning Climate Change\")\n",
    "    plt.xlabel(\"total: n = \" + str(len(countrydf)))\n",
    "    plt.show() \n",
    "elif(col_type == 2):\n",
    "    line = str(countrydf[0])\n",
    "    for i in range(len(countrydf)-1):\n",
    "        line = line + \";\" + str(countrydf[i+1])\n",
    "    line = line.split(\";\")\n",
    "    for i in range(len(line)):\n",
    "        line[i] = (line[i]).strip()\n",
    "    line = [string for string in line if string != \"\"]\n",
    "    seriespd, lsn = np.unique(pd.Series(line), return_counts=True)\n",
    "    \n",
    "    y = lsn\n",
    "    seriespd_n = []\n",
    "    for i in range(len(seriespd)):\n",
    "        seriespd_n.append(seriespd[i] + \" n=\" + str(lsn[i]))\n",
    "    mylabels = seriespd_n\n",
    "    \n",
    "    import matplotlib.pyplot as plt\n",
    "    plt.figure(figsize=(6, 6), dpi=100)\n",
    "    plt.pie(y, labels=mylabels, autopct='%1.1f%%', labeldistance=1)\n",
    "    plt.title(label=str(country) + \" Responses Concerning Climate Change\")\n",
    "    plt.xlabel(\"total: n = \" + str(len(line)))\n",
    "    plt.show()\n",
    "elif(col_type == 3):\n",
    "    line = str(countrydf[0])\n",
    "    for i in range(len(countrydf)-1):\n",
    "        line = line + \";\" + str(countrydf[i+1])\n",
    "    line = line.split(\";\")\n",
    "    for i in range(len(line)):\n",
    "        line[i] = (line[i]).strip()\n",
    "    line = [string for string in line if string != \"\"]\n",
    "    seriespd, lsn = np.unique(pd.Series(line), return_counts=True)\n",
    "\n",
    "    y = lsn\n",
    "    seriespd_n = []\n",
    "    for i in range(len(seriespd)):\n",
    "        seriespd_n.append(seriespd[i] + \" n=\" + str(lsn[i]))\n",
    "    mylabels = seriespd_n\n",
    "    \n",
    "    import matplotlib.pyplot as plt\n",
    "    plt.figure(figsize=(6, 6), dpi=100)\n",
    "    plt.pie(y, labels=mylabels, autopct='%1.1f%%')\n",
    "    plt.title(label=str(country) + \" Document Type Concerning Climate Change\")\n",
    "    plt.xlabel(\"total: n = \" + str(len(line)))\n",
    "    plt.show()\n",
    "elif(col_type == 4):\n",
    "    line = str(countrydf[0])\n",
    "    for i in range(len(countrydf)-1):\n",
    "        line = line + \";\" + str(countrydf[i+1])\n",
    "    line = line.split(\";\")\n",
    "    for i in range(len(line)):\n",
    "        line[i] = (line[i]).strip()\n",
    "    line = [string for string in line if string != \"\"]\n",
    "    seriespd, lsn = np.unique(pd.Series(line), return_counts=True)\n",
    "    \n",
    "    y = lsn\n",
    "    seriespd_n = []\n",
    "    for i in range(len(seriespd)):\n",
    "        seriespd_n.append(seriespd[i] + \" n=\" + str(lsn[i]))\n",
    "    mylabels = seriespd_n\n",
    "    \n",
    "    import matplotlib.pyplot as plt\n",
    "    plt.figure(figsize=(6, 6), dpi=100)\n",
    "    plt.pie(y, labels=mylabels, autopct='%1.1f%%', labeldistance=1.2)\n",
    "    plt.title(label=str(country) + \" Keywords Concerning Climate Change\")\n",
    "    plt.xlabel(\"total: n = \" + str(len(line)))\n",
    "    plt.show()"
   ]
  },
  {
   "cell_type": "code",
   "execution_count": null,
   "id": "0adaa28a-8f53-4f8f-a2d8-dd2eeba0039b",
   "metadata": {},
   "outputs": [],
   "source": []
  }
 ],
 "metadata": {
  "kernelspec": {
   "display_name": "Python 3 (ipykernel)",
   "language": "python",
   "name": "python3"
  },
  "language_info": {
   "codemirror_mode": {
    "name": "ipython",
    "version": 3
   },
   "file_extension": ".py",
   "mimetype": "text/x-python",
   "name": "python",
   "nbconvert_exporter": "python",
   "pygments_lexer": "ipython3",
   "version": "3.9.6"
  }
 },
 "nbformat": 4,
 "nbformat_minor": 5
}
